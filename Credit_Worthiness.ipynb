{
 "cells": [
  {
   "cell_type": "code",
   "execution_count": null,
   "metadata": {},
   "outputs": [],
   "source": [
    "import pandas as pd\n",
    "import numpy as np"
   ]
  },
  {
   "cell_type": "markdown",
   "metadata": {},
   "source": [
    "# ---------------------------------------------------------------------------------------------------\n",
    "# Read Me\n",
    "    This notebook is splitted into multiple sections. Sectionwise details mentioned below for reference.\n",
    "\n",
    "## Section: 1 (Common Function)\n",
    "    * Common Functions\n",
    "\n",
    "## Section: 2\n",
    "     * Basic Data Reading and Data Cleaning\n",
    "     \n",
    "## Section: 3 (Column Wise Analysis \"Credit_Card_Balance\")\n",
    "    * Column Wise Analysis\n",
    "    \n",
    "## Section: 4 (Column Wise Analysis \"POS_Cash_Balance\")\n",
    "    * Basic Data Reading and Data Cleaning\n",
    "# ---------------------------------------------------------------------------------------------------"
   ]
  },
  {
   "cell_type": "markdown",
   "metadata": {},
   "source": [
    "# <font color='#800000'> ==> Section: 1 (Common Function) </font>"
   ]
  },
  {
   "cell_type": "code",
   "execution_count": null,
   "metadata": {},
   "outputs": [],
   "source": []
  },
  {
   "cell_type": "markdown",
   "metadata": {},
   "source": [
    "# <font color='#800000'> ==> Section: 2 </font>"
   ]
  },
  {
   "cell_type": "markdown",
   "metadata": {},
   "source": [
    "### * Reading Files and Checking Basic Information"
   ]
  },
  {
   "cell_type": "code",
   "execution_count": null,
   "metadata": {},
   "outputs": [],
   "source": [
    "credit_card_balance = pd.read_csv('../all/credit_card_balance.csv')\n",
    "POS_Cash_Balance = pd.read_csv('../all/POS_CASH_balance.csv')"
   ]
  },
  {
   "cell_type": "code",
   "execution_count": null,
   "metadata": {},
   "outputs": [],
   "source": [
    "# Print Size of the DataSet\n",
    "print(credit_card_balance.shape)\n",
    "print(POS_Cash_Balance.shape)"
   ]
  },
  {
   "cell_type": "code",
   "execution_count": null,
   "metadata": {},
   "outputs": [],
   "source": [
    "#Columns List\n",
    "print(credit_card_balance.columns)\n",
    "#pd.DataFrame(credit_card_balance.columns).to_excel('metadata.xlsx')"
   ]
  },
  {
   "cell_type": "code",
   "execution_count": null,
   "metadata": {},
   "outputs": [],
   "source": [
    "#Columns List\n",
    "print(POS_Cash_Balance.columns)\n",
    "#pd.DataFrame(POS_Cash_Balance.columns).to_excel('metadata_1.xlsx')"
   ]
  },
  {
   "cell_type": "code",
   "execution_count": null,
   "metadata": {},
   "outputs": [],
   "source": [
    "# Check NUll % for credit_card_balance Columns\n",
    "print(round(100*(credit_card_balance.isnull().sum()/len(credit_card_balance.index)),2))\n",
    "print(\"==========================================\")\n",
    "# Check 0 Value % in each Column Wise\n",
    "print(round(100*(credit_card_balance.apply(lambda x: x == 0).sum()/len(credit_card_balance.index)),2))"
   ]
  },
  {
   "cell_type": "code",
   "execution_count": null,
   "metadata": {},
   "outputs": [],
   "source": [
    "# Check NUll % for POS_Cash_Balance Columns\n",
    "print(round(100*(POS_Cash_Balance.isnull().sum()/len(POS_Cash_Balance.index)),2))\n",
    "print(\"==========================================\")\n",
    "# Check 0 Value % in each Column Wise\n",
    "print(round(100*(POS_Cash_Balance.apply(lambda x: x == 0).sum()/len(POS_Cash_Balance.index)),2))"
   ]
  },
  {
   "cell_type": "code",
   "execution_count": null,
   "metadata": {},
   "outputs": [],
   "source": [
    "credit_card_balance.columns"
   ]
  }
 ],
 "metadata": {
  "kernelspec": {
   "display_name": "Python 3",
   "language": "python",
   "name": "python3"
  }
 },
 "nbformat": 4,
 "nbformat_minor": 2
}
