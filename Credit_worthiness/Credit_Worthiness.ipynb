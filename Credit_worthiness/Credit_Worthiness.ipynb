{
 "cells": [
  {
   "cell_type": "code",
   "execution_count": 5,
   "metadata": {},
   "outputs": [],
   "source": [
    "import pandas as pd\n",
    "import numpy as np"
   ]
  },
  {
   "cell_type": "markdown",
   "metadata": {},
   "source": [
    "# Read Me\n",
    "\n",
    "## Section: 1 (Common Function)\n",
    "    * Common Functions\n",
    "\n",
    "## Section: 2\n",
    "     * Basic Data Reading and Data Cleaning\n",
    "     \n",
    "## Section: 3 (Column Wise Analysis \"Credit_Card_Balance\")\n",
    "    * Column Wise Analysis\n",
    "    \n",
    "## Section: 4 (Column Wise Analysis \"POS_Cash_Balance\")\n",
    "    * Basic Data Reading and Data Cleaning\n"
   ]
  },
  {
   "cell_type": "markdown",
   "metadata": {},
   "source": [
    "# <font color='#800000'> ==> Section: 1 (Common Function) </font>"
   ]
  },
  {
   "cell_type": "code",
   "execution_count": null,
   "metadata": {},
   "outputs": [],
   "source": []
  },
  {
   "cell_type": "markdown",
   "metadata": {},
   "source": [
    "# <font color='#800000'> ==> Section: 2 </font>"
   ]
  },
  {
   "cell_type": "code",
   "execution_count": null,
   "metadata": {},
   "outputs": [],
   "source": [
    "credit_card_balance = pd.read_csv('../all/credit_card_balance.csv')\n",
    "POS_Cash_Balance = pd.read_csv('../all/POS_CASH_balance.csv')"
   ]
  },
  {
   "cell_type": "code",
   "execution_count": 16,
   "metadata": {},
   "outputs": [
    {
     "name": "stdout",
     "output_type": "stream",
     "text": [
      "(3840312, 23)\n",
      "(10001358, 8)\n"
     ]
    }
   ],
   "source": [
    "# Print Size of the DataSet\n",
    "print(credit_card_balance.shape)\n",
    "print(POS_Cash_Balance.shape)"
   ]
  },
  {
   "cell_type": "code",
   "execution_count": 13,
   "metadata": {},
   "outputs": [
    {
     "name": "stdout",
     "output_type": "stream",
     "text": [
      "Index(['SK_ID_PREV', 'SK_ID_CURR', 'MONTHS_BALANCE', 'AMT_BALANCE',\n",
      "       'AMT_CREDIT_LIMIT_ACTUAL', 'AMT_DRAWINGS_ATM_CURRENT',\n",
      "       'AMT_DRAWINGS_CURRENT', 'AMT_DRAWINGS_OTHER_CURRENT',\n",
      "       'AMT_DRAWINGS_POS_CURRENT', 'AMT_INST_MIN_REGULARITY',\n",
      "       'AMT_PAYMENT_CURRENT', 'AMT_PAYMENT_TOTAL_CURRENT',\n",
      "       'AMT_RECEIVABLE_PRINCIPAL', 'AMT_RECIVABLE', 'AMT_TOTAL_RECEIVABLE',\n",
      "       'CNT_DRAWINGS_ATM_CURRENT', 'CNT_DRAWINGS_CURRENT',\n",
      "       'CNT_DRAWINGS_OTHER_CURRENT', 'CNT_DRAWINGS_POS_CURRENT',\n",
      "       'CNT_INSTALMENT_MATURE_CUM', 'NAME_CONTRACT_STATUS', 'SK_DPD',\n",
      "       'SK_DPD_DEF'],\n",
      "      dtype='object')\n"
     ]
    }
   ],
   "source": [
    "#Columns List\n",
    "print(credit_card_balance.columns)\n",
    "#pd.DataFrame(credit_card_balance.columns).to_excel('metadata.xlsx')"
   ]
  },
  {
   "cell_type": "code",
   "execution_count": 17,
   "metadata": {},
   "outputs": [
    {
     "name": "stdout",
     "output_type": "stream",
     "text": [
      "Index(['SK_ID_PREV', 'SK_ID_CURR', 'MONTHS_BALANCE', 'CNT_INSTALMENT',\n",
      "       'CNT_INSTALMENT_FUTURE', 'NAME_CONTRACT_STATUS', 'SK_DPD',\n",
      "       'SK_DPD_DEF'],\n",
      "      dtype='object')\n"
     ]
    }
   ],
   "source": [
    "#Columns List\n",
    "print(POS_Cash_Balance.columns)\n",
    "#pd.DataFrame(POS_Cash_Balance.columns).to_excel('metadata_1.xlsx')"
   ]
  },
  {
   "cell_type": "code",
   "execution_count": 18,
   "metadata": {},
   "outputs": [
    {
     "name": "stdout",
     "output_type": "stream",
     "text": [
      "SK_ID_PREV                     0.00\n",
      "SK_ID_CURR                     0.00\n",
      "MONTHS_BALANCE                 0.00\n",
      "AMT_BALANCE                    0.00\n",
      "AMT_CREDIT_LIMIT_ACTUAL        0.00\n",
      "AMT_DRAWINGS_ATM_CURRENT      19.52\n",
      "AMT_DRAWINGS_CURRENT           0.00\n",
      "AMT_DRAWINGS_OTHER_CURRENT    19.52\n",
      "AMT_DRAWINGS_POS_CURRENT      19.52\n",
      "AMT_INST_MIN_REGULARITY        7.95\n",
      "AMT_PAYMENT_CURRENT           20.00\n",
      "AMT_PAYMENT_TOTAL_CURRENT      0.00\n",
      "AMT_RECEIVABLE_PRINCIPAL       0.00\n",
      "AMT_RECIVABLE                  0.00\n",
      "AMT_TOTAL_RECEIVABLE           0.00\n",
      "CNT_DRAWINGS_ATM_CURRENT      19.52\n",
      "CNT_DRAWINGS_CURRENT           0.00\n",
      "CNT_DRAWINGS_OTHER_CURRENT    19.52\n",
      "CNT_DRAWINGS_POS_CURRENT      19.52\n",
      "CNT_INSTALMENT_MATURE_CUM      7.95\n",
      "NAME_CONTRACT_STATUS           0.00\n",
      "SK_DPD                         0.00\n",
      "SK_DPD_DEF                     0.00\n",
      "dtype: float64\n",
      "==========================================\n",
      "SK_ID_PREV                     0.00\n",
      "SK_ID_CURR                     0.00\n",
      "MONTHS_BALANCE                 0.00\n",
      "AMT_BALANCE                   56.15\n",
      "AMT_CREDIT_LIMIT_ACTUAL       19.63\n",
      "AMT_DRAWINGS_ATM_CURRENT      69.41\n",
      "AMT_DRAWINGS_CURRENT          83.94\n",
      "AMT_DRAWINGS_OTHER_CURRENT    80.15\n",
      "AMT_DRAWINGS_POS_CURRENT      73.58\n",
      "AMT_INST_MIN_REGULARITY       50.23\n",
      "AMT_PAYMENT_CURRENT           10.17\n",
      "AMT_PAYMENT_TOTAL_CURRENT     56.56\n",
      "AMT_RECEIVABLE_PRINCIPAL      59.79\n",
      "AMT_RECIVABLE                 55.04\n",
      "AMT_TOTAL_RECEIVABLE          55.04\n",
      "CNT_DRAWINGS_ATM_CURRENT      69.41\n",
      "CNT_DRAWINGS_CURRENT          84.11\n",
      "CNT_DRAWINGS_OTHER_CURRENT    80.14\n",
      "CNT_DRAWINGS_POS_CURRENT      73.58\n",
      "CNT_INSTALMENT_MATURE_CUM     14.36\n",
      "NAME_CONTRACT_STATUS           0.00\n",
      "SK_DPD                        96.01\n",
      "SK_DPD_DEF                    97.67\n",
      "dtype: float64\n"
     ]
    }
   ],
   "source": [
    "# Check NUll % for credit_card_balance Columns\n",
    "print(round(100*(credit_card_balance.isnull().sum()/len(credit_card_balance.index)),2))\n",
    "print(\"==========================================\")\n",
    "# Check 0 Value % in each Column Wise\n",
    "print(round(100*(credit_card_balance.apply(lambda x: x == 0).sum()/len(credit_card_balance.index)),2))"
   ]
  },
  {
   "cell_type": "code",
   "execution_count": 19,
   "metadata": {},
   "outputs": [
    {
     "name": "stdout",
     "output_type": "stream",
     "text": [
      "SK_ID_PREV               0.00\n",
      "SK_ID_CURR               0.00\n",
      "MONTHS_BALANCE           0.00\n",
      "CNT_INSTALMENT           0.26\n",
      "CNT_INSTALMENT_FUTURE    0.26\n",
      "NAME_CONTRACT_STATUS     0.00\n",
      "SK_DPD                   0.00\n",
      "SK_DPD_DEF               0.00\n",
      "dtype: float64\n",
      "==========================================\n",
      "SK_ID_PREV                0.00\n",
      "SK_ID_CURR                0.00\n",
      "MONTHS_BALANCE            0.00\n",
      "CNT_INSTALMENT            0.00\n",
      "CNT_INSTALMENT_FUTURE    11.86\n",
      "NAME_CONTRACT_STATUS      0.00\n",
      "SK_DPD                   97.05\n",
      "SK_DPD_DEF               98.86\n",
      "dtype: float64\n"
     ]
    }
   ],
   "source": [
    "# Check NUll % for POS_Cash_Balance Columns\n",
    "print(round(100*(POS_Cash_Balance.isnull().sum()/len(POS_Cash_Balance.index)),2))\n",
    "print(\"==========================================\")\n",
    "# Check 0 Value % in each Column Wise\n",
    "print(round(100*(POS_Cash_Balance.apply(lambda x: x == 0).sum()/len(POS_Cash_Balance.index)),2))"
   ]
  },
  {
   "cell_type": "code",
   "execution_count": null,
   "metadata": {},
   "outputs": [],
   "source": []
  }
 ],
 "metadata": {
  "kernelspec": {
   "display_name": "Python 3",
   "language": "python",
   "name": "python3"
  }
 },
 "nbformat": 4,
 "nbformat_minor": 2
}
